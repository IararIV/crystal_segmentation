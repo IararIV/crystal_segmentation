{
 "cells": [
  {
   "cell_type": "code",
   "execution_count": 1,
   "id": "patent-thread",
   "metadata": {},
   "outputs": [],
   "source": [
    "import numpy as np\n",
    "import matplotlib.pyplot as plt\n",
    "from PIL import Image\n",
    "import glob"
   ]
  },
  {
   "cell_type": "markdown",
   "id": "prompt-syntax",
   "metadata": {},
   "source": [
    "Categories:\n",
    "- 0: background\n",
    "- 1: crystal\n",
    "- 2: loop\n",
    "- 3: liquor"
   ]
  },
  {
   "cell_type": "code",
   "execution_count": null,
   "id": "incorporated-scenario",
   "metadata": {},
   "outputs": [],
   "source": [
    "# 13284 works - crystal is 2 loop is 1"
   ]
  },
  {
   "cell_type": "code",
   "execution_count": 90,
   "id": "partial-salvation",
   "metadata": {},
   "outputs": [],
   "source": [
    "path = \"/dls/science/users/lqg38422/DATA/13284/gt/*\"\n",
    "\n",
    "vol = []\n",
    "for file in glob.glob(path):\n",
    "    im = np.array(Image.open(file))\n",
    "    vol.append(im)\n",
    "vol = np.stack(vol)\n",
    "idx_1 = vol == 1\n",
    "idx_2 = vol == 2\n",
    "vol[idx_1] = 2\n",
    "vol[idx_2] = 1\n",
    "filenames = glob.glob(path)\n",
    "for n in range(len(vol)):\n",
    "    im = vol[n].astype(\">u2\")\n",
    "    im = Image.fromarray(im)\n",
    "    im.save(filenames[n])"
   ]
  },
  {
   "cell_type": "code",
   "execution_count": 87,
   "id": "marine-lincoln",
   "metadata": {},
   "outputs": [],
   "source": [
    "# 13076 - fix reconstruction dimensions order - convert uint8 to >u2 + correct categories"
   ]
  },
  {
   "cell_type": "code",
   "execution_count": null,
   "id": "upset-execution",
   "metadata": {},
   "outputs": [],
   "source": []
  },
  {
   "cell_type": "raw",
   "id": "fluid-organ",
   "metadata": {},
   "source": [
    "path = \"/dls/science/users/lqg38422/DATA/13284/\"\n",
    "\n",
    "rec = np.array(Image.open(path + \"recon/00340.tif\"))\n",
    "rec.shape, rec.dtype\n",
    "\n",
    "path = \"/dls/science/users/lqg38422/DATA/13076/\"\n",
    "\n",
    "rec = np.array(Image.open(path + \"recon/recon_00000.tif\"))\n",
    "rec.shape, rec.dtype"
   ]
  },
  {
   "cell_type": "raw",
   "id": "laden-treasury",
   "metadata": {},
   "source": [
    "def uint8_to_u2(path):\n",
    "    for filename in glob.glob(path):\n",
    "        im = np.array(Image.open(filename))\n",
    "        im = im.astype(\">u2\")\n",
    "        im = Image.fromarray(im)\n",
    "        im.save(filename)"
   ]
  },
  {
   "cell_type": "raw",
   "id": "intelligent-regular",
   "metadata": {},
   "source": [
    "path = \"/dls/science/users/lqg38422/DATA/13076/recon/*\"\n",
    "uint8_to_u2(path)"
   ]
  },
  {
   "cell_type": "code",
   "execution_count": 88,
   "id": "expanded-majority",
   "metadata": {},
   "outputs": [],
   "source": [
    "# 13270 - there's a 4 in image 606 - values are [0,2,3,4] - if != 0 -=1"
   ]
  },
  {
   "cell_type": "raw",
   "id": "hybrid-neighborhood",
   "metadata": {},
   "source": [
    "path = \"/dls/science/users/lqg38422/DATA/13270/recon/00430.tif\"\n",
    "\n",
    "rec = Image.open(path)"
   ]
  },
  {
   "cell_type": "raw",
   "id": "native-insertion",
   "metadata": {},
   "source": [
    "path = \"/dls/science/users/lqg38422/DATA/13270/gt/*\"\n",
    "\n",
    "vol = []\n",
    "for file in glob.glob(path):\n",
    "    im = np.array(Image.open(file))\n",
    "    vol.append(im)\n",
    "vol = np.stack(vol)\n",
    "np.unique(vol)\n",
    "vol[vol != 0] -= 1\n",
    "filenames = glob.glob(path)\n",
    "for n in range(len(vol)):\n",
    "    im = vol[n].astype(\">u2\")\n",
    "    im = Image.fromarray(im)\n",
    "    im.save(filenames[n])"
   ]
  },
  {
   "cell_type": "code",
   "execution_count": 107,
   "id": "neither-router",
   "metadata": {},
   "outputs": [],
   "source": [
    "def uint16_to_uint8(filenames, dtype=np.uint8):\n",
    "    for f in filenames:\n",
    "        im = Image.open(f)\n",
    "        im = np.array(im).astype(dtype)\n",
    "        im = Image.fromarray(im)\n",
    "        im.save(f)"
   ]
  },
  {
   "cell_type": "code",
   "execution_count": 108,
   "id": "supposed-hurricane",
   "metadata": {},
   "outputs": [],
   "source": [
    "path = glob.glob(\"/dls/science/users/lqg38422/DATA/13076/gt/*.tif\")\n",
    "uint16_to_uint8(path)\n",
    "path = glob.glob(\"/dls/science/users/lqg38422/DATA/13284/gt/*.tif\")\n",
    "uint16_to_uint8(path)\n",
    "path = glob.glob(\"/dls/science/users/lqg38422/DATA/13270/gt/*.tif\")\n",
    "uint16_to_uint8(path)"
   ]
  },
  {
   "cell_type": "code",
   "execution_count": null,
   "id": "complicated-mistake",
   "metadata": {},
   "outputs": [],
   "source": []
  }
 ],
 "metadata": {
  "kernelspec": {
   "display_name": "Python 3",
   "language": "python",
   "name": "python3"
  },
  "language_info": {
   "codemirror_mode": {
    "name": "ipython",
    "version": 3
   },
   "file_extension": ".py",
   "mimetype": "text/x-python",
   "name": "python",
   "nbconvert_exporter": "python",
   "pygments_lexer": "ipython3",
   "version": "3.7.10"
  }
 },
 "nbformat": 4,
 "nbformat_minor": 5
}
