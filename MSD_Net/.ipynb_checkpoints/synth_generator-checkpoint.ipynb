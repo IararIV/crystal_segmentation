{
 "cells": [
  {
   "cell_type": "code",
   "execution_count": 5,
   "id": "pleased-oriental",
   "metadata": {},
   "outputs": [],
   "source": [
    "import timeit\n",
    "import os\n",
    "import matplotlib.pyplot as plt\n",
    "import numpy as np\n",
    "from PIL import Image\n",
    "import tomophantom\n",
    "from tomophantom import TomoP3D\n",
    "from tomophantom.supp.qualitymetrics import QualityTools\n",
    "from tomophantom.supp.flatsgen import synth_flats\n",
    "from tomobar.supp.suppTools import normaliser\n",
    "\n",
    "def create_sample(dataset, model, N_size, angles_num, output_path_recon, output_path_gt):\n",
    "    \n",
    "    print (\"Building 3D phantom using TomoPhantom software\")\n",
    "    tic=timeit.default_timer()\n",
    "    model = model # select a model number from the library\n",
    "    N_size = N_size #512 # Define phantom dimensions using a scalar value (cubic phantom)\n",
    "    path = os.path.dirname(tomophantom.__file__)\n",
    "    path_library3D = os.path.join(path, \"Phantom3DLibrary.dat\")\n",
    "    #This will generate a N_size x N_size x N_size phantom (3D)\n",
    "    phantom_tm = TomoP3D.Model(model, N_size, path_library3D)\n",
    "    toc=timeit.default_timer()\n",
    "    Run_time = toc - tic\n",
    "    print(\"Phantom has been built in {} seconds\".format(Run_time))\n",
    "    \n",
    "    # Get groundtruth\n",
    "    values = np.unique(phantom_tm)\n",
    "    assert len(values) == 4, \"More than 4 classes where generated, run again\"\n",
    "    GROUND_TRUTH = np.zeros(phantom_tm.shape)\n",
    "    GROUND_TRUTH[phantom_tm == values[0]] = 0\n",
    "    GROUND_TRUTH[phantom_tm == values[1]] = 3\n",
    "    GROUND_TRUTH[phantom_tm == values[2]] = 1\n",
    "    GROUND_TRUTH[phantom_tm == values[3]] = 2\n",
    "\n",
    "    # Projection geometry related parameters:\n",
    "    Horiz_det = N_size # int(np.sqrt(2)*N_size) # detector column count (horizontal)\n",
    "    Vert_det = N_size # detector row count (vertical) (no reason for it to be > N)\n",
    "    angles_num = angles_num # int(0.5*np.pi*N_size); # angles number\n",
    "    angles = np.linspace(0.0,179.9,angles_num,dtype='float32') # in degrees\n",
    "    angles_rad = angles*(np.pi/180.0)\n",
    "\n",
    "    print (\"Building 3D analytical projection data with TomoPhantom\")\n",
    "    projData3D_analyt = TomoP3D.ModelSino(model, N_size, Horiz_det, Vert_det, angles, path_library3D)\n",
    "\n",
    "    print (\"Simulate synthetic flat fields, add flat field background to the projections and add noise\")\n",
    "    I0  = 15000; # Source intensity\n",
    "    flatsnum = 100 # the number of the flat fields simulated\n",
    "\n",
    "    [projData3D_noisy, flatsSIM] = synth_flats(projData3D_analyt,\n",
    "                                               source_intensity = I0, source_variation=0.02,\\\n",
    "                                               arguments_Bessel = (1,10,10,12),\\\n",
    "                                               specklesize = 5,\\\n",
    "                                               kbar = 0.3,\\\n",
    "                                               jitter = 1.0,\\\n",
    "                                               sigmasmooth = 3, flatsnum=flatsnum)\n",
    "\n",
    "    print (\"Normalise projections using ToMoBAR software\")\n",
    "    # normalise the data, the required data format is [detectorsX, Projections, detectorsY]\n",
    "    projData3D_norm = normaliser(projData3D_noisy, flatsSIM, darks=None, log='true', method='mean')\n",
    "\n",
    "    for n in range(projData3D_norm.shape[1]):\n",
    "        # save image\n",
    "        filename = output_path_recon + str(dataset) + \"_recon_\" + str(n).zfill(5) + \".tif\"\n",
    "        im = projData3D_norm[:,n,:].astype(np.float16)\n",
    "        im = Image.fromarray(im)\n",
    "        im.save(filename)\n",
    "        \n",
    "    for n in range(GROUND_TRUTH.shape[1]):\n",
    "        # save image\n",
    "        filename = output_path_gt + str(dataset) + \"_gt_\" + str(n).zfill(5) + \".tif\"\n",
    "        im = GROUND_TRUTH[:,n,:]\n",
    "        im = Image.fromarray(im.astype(np.uint8))\n",
    "        im.save(filename)"
   ]
  },
  {
   "cell_type": "code",
   "execution_count": 6,
   "id": "celtic-upgrade",
   "metadata": {},
   "outputs": [
    {
     "name": "stdout",
     "output_type": "stream",
     "text": [
      "Building 3D phantom using TomoPhantom software\n",
      "Phantom has been built in 0.1791102869901806 seconds\n",
      "Building 3D analytical projection data with TomoPhantom\n",
      "Simulate synthetic flat fields, add flat field background to the projections and add noise\n",
      "Normalise projections using ToMoBAR software\n"
     ]
    }
   ],
   "source": [
    "dataset = \"12345\"\n",
    "model = 17\n",
    "N_size = 256\n",
    "angles_num = 800\n",
    "output_path_recon = \"./recon/\"\n",
    "output_path_gt = \"./gt/\"\n",
    "create_sample(dataset, model, N_size, angles_num, output_path_recon, output_path_gt)"
   ]
  }
 ],
 "metadata": {
  "kernelspec": {
   "display_name": "Python 3",
   "language": "python",
   "name": "python3"
  },
  "language_info": {
   "codemirror_mode": {
    "name": "ipython",
    "version": 3
   },
   "file_extension": ".py",
   "mimetype": "text/x-python",
   "name": "python",
   "nbconvert_exporter": "python",
   "pygments_lexer": "ipython3",
   "version": "3.7.10"
  }
 },
 "nbformat": 4,
 "nbformat_minor": 5
}
