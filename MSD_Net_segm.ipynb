{
 "cells": [
  {
   "cell_type": "code",
   "execution_count": 1,
   "id": "mobile-groove",
   "metadata": {},
   "outputs": [],
   "source": [
    "import msd_pytorch as mp\n",
    "from torch.utils.data import DataLoader\n",
    "import numpy as np\n",
    "import torch\n",
    "import matplotlib.pyplot as plt"
   ]
  },
  {
   "cell_type": "code",
   "execution_count": 28,
   "id": "attached-fight",
   "metadata": {},
   "outputs": [],
   "source": [
    "###############################################################################\n",
    "#                              Network parameters                             #\n",
    "###############################################################################\n",
    "# The number of input channels of the MSD network\n",
    "c_in = 1\n",
    "# The depth of the MSD network. Good values range between 30 and 200.\n",
    "depth = 30\n",
    "# The width of the MSD network. A value of 1 is recommended.\n",
    "width = 1\n",
    "# The dilation scheme to use for the MSD network. The default is [1,\n",
    "# 2, ..., 10], but [1, 2, 4, 8] is good too.\n",
    "dilations = [1, 2, 3, 4, 5, 6, 7, 8, 9, 10]\n",
    "\n",
    "# If using the MSD network for regression, set these parameters too.\n",
    "\n",
    "# The loss function to use. Can be \"L1\" or \"L2\".\n",
    "loss = \"L2\"\n",
    "# The number of output channels of the network.\n",
    "c_out = 1"
   ]
  },
  {
   "cell_type": "code",
   "execution_count": 29,
   "id": "nutritional-address",
   "metadata": {},
   "outputs": [],
   "source": [
    "###############################################################################\n",
    "#                              Dataset parameters                             #\n",
    "###############################################################################\n",
    "\n",
    "# The glob pattern for the training set input data. For instance: \"~/train/input*.tif\".\n",
    "train_input_glob = \"/dls/science/users/lqg38422/DATA/13284/recon/*.tif\" #glob.glob(\"/dls/science/users/lqg38422/DATA/*/recon/*\")\n",
    "# The glob pattern for the training set target data. For instance: \"~/train/target/img*.png\"\n",
    "train_target_glob = \"/dls/science/users/lqg38422/DATA/13284/gt/*.tif\" #glob.glob(\"/dls/science/users/lqg38422/DATA/*/gt/*\")\n",
    "# The glob pattern for the validation set input data. Can be left\n",
    "# empty if there is no validation data.\n",
    "val_input_glob = \"/dls/science/users/lqg38422/DATA/13076/recon/*.tif\"\n",
    "# The glob pattern for the validation set input data. Can be left\n",
    "# empty if there is no validation data.\n",
    "val_target_glob = \"/dls/science/users/lqg38422/DATA/13076/gt/*.tif\"\n",
    "\n",
    "# If you are doing segmentation, set the values of the label you are\n",
    "# expecting in the target dataset. You can either set this value to an\n",
    "# integer `k`, indicating that the label set is {0, 1, ..., k-1}, or\n",
    "# explicitly set the expected label values using a list, as is done\n",
    "# below.\n",
    "labels = [0, 1, 2, 3]"
   ]
  },
  {
   "cell_type": "code",
   "execution_count": 30,
   "id": "stone-oliver",
   "metadata": {},
   "outputs": [],
   "source": [
    "###############################################################################\n",
    "#                             Training parameters                             #\n",
    "###############################################################################\n",
    "\n",
    "# The number of epochs to train for\n",
    "epochs = 100\n",
    "# Which task to perform. Can be \"regression\" or \"segmentation\"\n",
    "task = \"segmentation\"\n",
    "# The mini-batch size used in training.\n",
    "batch_size = 3"
   ]
  },
  {
   "cell_type": "code",
   "execution_count": 31,
   "id": "minus-simple",
   "metadata": {},
   "outputs": [
    {
     "name": "stdout",
     "output_type": "stream",
     "text": [
      "Load training dataset\n",
      "Load validation set\n",
      "Create segmentation network model\n"
     ]
    }
   ],
   "source": [
    "###############################################################################\n",
    "#                                 Loading data                                #\n",
    "###############################################################################\n",
    "\n",
    "print(\"Load training dataset\")\n",
    "if task == \"regression\":\n",
    "    train_ds = mp.ImageDataset(train_input_glob, train_target_glob)\n",
    "else:\n",
    "    train_ds = mp.ImageDataset(train_input_glob, train_target_glob, labels=labels)\n",
    "\n",
    "train_dl = DataLoader(train_ds, batch_size, shuffle=True)\n",
    "\n",
    "# Load Validation dataset (if specified)\n",
    "if val_input_glob:\n",
    "    print(\"Load validation set\")\n",
    "    if task == \"regression\":\n",
    "        val_ds = mp.ImageDataset(val_input_glob, val_target_glob)\n",
    "    else:\n",
    "        val_ds = mp.ImageDataset(val_input_glob, val_target_glob, labels=labels)\n",
    "\n",
    "    val_dl = DataLoader(val_ds, batch_size, shuffle=False)\n",
    "else:\n",
    "    print(\"No validation set loaded\")\n",
    "    val_dl = None\n",
    "\n",
    "\n",
    "print(f\"Create {task} network model\")\n",
    "if task == \"regression\":\n",
    "    model = mp.MSDRegressionModel(\n",
    "        c_in, c_out, depth, width, dilations=dilations, loss=loss\n",
    "    )\n",
    "else:\n",
    "    model = mp.MSDSegmentationModel(\n",
    "        c_in, train_ds.num_labels, depth, width, dilations=dilations\n",
    "    )"
   ]
  },
  {
   "cell_type": "code",
   "execution_count": null,
   "id": "rotary-morning",
   "metadata": {},
   "outputs": [
    {
     "name": "stdout",
     "output_type": "stream",
     "text": [
      "Start estimating normalization parameters\n",
      "Done estimating normalization parameters\n",
      "Starting training...\n",
      "00000 Training error:  0.228943\n",
      "00000 Validation error:  2.958197\n",
      "00001 Training error:  0.211976\n",
      "00001 Validation error:  3.662708\n",
      "00002 Training error:  0.188744\n",
      "00002 Validation error:  4.839226\n",
      "00003 Training error:  0.169159\n",
      "00003 Validation error:  5.778374\n"
     ]
    }
   ],
   "source": [
    "# The network works best if the input data has mean zero and has a\n",
    "# standard deviation of 1. To achieve this, we get a rough estimate of\n",
    "# correction parameters from the training data. These parameters are\n",
    "# not updated after this step and are stored in the network, so that\n",
    "# they are not lost when the network is saved to and loaded from disk.\n",
    "print(\"Start estimating normalization parameters\")\n",
    "model.set_normalization(train_dl)\n",
    "print(\"Done estimating normalization parameters\")\n",
    "\n",
    "print(\"Starting training...\")\n",
    "best_validation_error = np.inf\n",
    "validation_error = 0.0\n",
    "error_plot = []\n",
    "validation_plot = []\n",
    "\n",
    "for epoch in range(epochs):\n",
    "    # Train\n",
    "    model.train(train_dl, 1)\n",
    "    # Compute training error\n",
    "    train_error = model.validate(train_dl)\n",
    "    error_plot.append(train_error)\n",
    "    print(f\"{epoch:05} Training error: {train_error: 0.6f}\")\n",
    "    # Compute validation error\n",
    "    if val_dl is not None:\n",
    "        validation_error = model.validate(val_dl)\n",
    "        print(f\"{epoch:05} Validation error: {validation_error: 0.6f}\")\n",
    "        validation_plot.append(validation_error)\n",
    "    # Save network if worthwile\n",
    "    #if validation_error < best_validation_error or val_dl is None:\n",
    "    #    best_validation_error = validation_error\n",
    "    #    model.save(f\"msd_network_epoch_{epoch}.torch\", epoch)"
   ]
  },
  {
   "cell_type": "code",
   "execution_count": null,
   "id": "first-corps",
   "metadata": {},
   "outputs": [],
   "source": [
    "plt.plot(error_plot)\n",
    "plt.show()"
   ]
  },
  {
   "cell_type": "code",
   "execution_count": null,
   "id": "official-composition",
   "metadata": {},
   "outputs": [],
   "source": [
    "plt.plot(validation_plot)\n",
    "plt.show()"
   ]
  },
  {
   "cell_type": "code",
   "execution_count": null,
   "id": "behind-rouge",
   "metadata": {},
   "outputs": [],
   "source": [
    "# Save final network parameters\n",
    "model.save(f\"msd_network_final.torch\", epoch)"
   ]
  },
  {
   "cell_type": "code",
   "execution_count": 58,
   "id": "fitting-stanley",
   "metadata": {},
   "outputs": [
    {
     "name": "stdout",
     "output_type": "stream",
     "text": [
      "Create segmentation network model\n"
     ]
    }
   ],
   "source": [
    "###############################################################################\n",
    "#                   Applying the trained network to new data                  #\n",
    "###############################################################################\n",
    "\n",
    "# 1) Recreate the model and load the saved parameters.\n",
    "print(f\"Create {task} network model\")\n",
    "if task == \"regression\":\n",
    "    model = mp.MSDRegressionModel(\n",
    "        c_in, c_out, depth, width, dilations=dilations, loss=loss\n",
    "    )\n",
    "else:\n",
    "    model = mp.MSDSegmentationModel(\n",
    "        c_in, train_ds.num_labels, depth, width, dilations=dilations\n",
    "    )\n",
    "\n",
    "# The parameters can be reloaded again:\n",
    "_ = model.load(f\"msd_network_final.torch\")"
   ]
  },
  {
   "cell_type": "code",
   "execution_count": 59,
   "id": "controlling-chapter",
   "metadata": {},
   "outputs": [
    {
     "name": "stdout",
     "output_type": "stream",
     "text": [
      "Load dataset\n"
     ]
    }
   ],
   "source": [
    "# 2) Load new data.\n",
    "# The glob pattern for new input data.\n",
    "new_data_input_glob = \"/dls/science/users/lqg38422/DATA/13270/recon/*.tif\"\n",
    "\n",
    "print(\"Load dataset\")\n",
    "# Since usually no target data is available for new images, just put\n",
    "# the input images as target as well. They will be ignored in the rest\n",
    "# of the script.\n",
    "ds = mp.ImageDataset(new_data_input_glob, new_data_input_glob)\n",
    "\n",
    "# Do not shuffle when applying to new data:\n",
    "batch_size = 1\n",
    "dl = DataLoader(ds, batch_size, shuffle=False)"
   ]
  },
  {
   "cell_type": "code",
   "execution_count": 60,
   "id": "recreational-broad",
   "metadata": {},
   "outputs": [],
   "source": [
    "# 3) apply to new data:\n",
    "segmentation = []\n",
    "for i, data in enumerate(dl):\n",
    "    # data contains a tuple of input and target data. Ignore the\n",
    "    # target data.\n",
    "    inp, _ = data\n",
    "    # Move input to GPU and apply the network:\n",
    "    output = model.net(inp.cuda())\n",
    "    # Output has dimensions BxCxHxW (batch size, # channels, height, width).\n",
    "\n",
    "    prediction = torch.max(output.data, 1).indices\n",
    "\n",
    "    # To convert to a numpy array, detach the output tensor from the\n",
    "    # pytorch computation graph, move it to cpu, and convert it to a\n",
    "    # numpy array.\n",
    "    prediction_numpy = prediction.detach().cpu().numpy()\n",
    "\n",
    "    # Optionally, if the prediction has a single output channel, you\n",
    "    # may want to remove the channel dimension as follows:\n",
    "    prediction_numpy = prediction_numpy.squeeze()\n",
    "    \n",
    "    # Add to tensor\n",
    "    segmentation.append(prediction_numpy)\n",
    "\n",
    "segmentation = np.stack(segmentation)"
   ]
  },
  {
   "cell_type": "code",
   "execution_count": 77,
   "id": "appreciated-voice",
   "metadata": {},
   "outputs": [
    {
     "data": {
      "text/plain": [
       "<matplotlib.image.AxesImage at 0x2b0e5f7c83d0>"
      ]
     },
     "execution_count": 77,
     "metadata": {},
     "output_type": "execute_result"
    },
    {
     "data": {
      "image/png": "[encoded data removed]",
      "text/plain": [
       "<Figure size 432x288 with 1 Axes>"
      ]
     },
     "metadata": {
      "needs_background": "light"
     },
     "output_type": "display_data"
    }
   ],
   "source": [
    "plt.imshow(segmentation[430])"
   ]
  },
  {
   "cell_type": "code",
   "execution_count": 65,
   "id": "lesser-karen",
   "metadata": {},
   "outputs": [],
   "source": [
    "from PIL import Image"
   ]
  },
  {
   "cell_type": "code",
   "execution_count": 75,
   "id": "seventh-breach",
   "metadata": {},
   "outputs": [],
   "source": [
    "num = 430\n",
    "im = np.array(Image.open(\"/dls/science/users/lqg38422/DATA/13284/gt/segment_132840430.tif\"))"
   ]
  },
  {
   "cell_type": "code",
   "execution_count": 76,
   "id": "personal-vacation",
   "metadata": {},
   "outputs": [
    {
     "data": {
      "text/plain": [
       "<matplotlib.image.AxesImage at 0x2b0e5f753610>"
      ]
     },
     "execution_count": 76,
     "metadata": {},
     "output_type": "execute_result"
    },
    {
     "data": {
      "image/png": "[encoded data removed]",
      "text/plain": [
       "<Figure size 432x288 with 1 Axes>"
      ]
     },
     "metadata": {
      "needs_background": "light"
     },
     "output_type": "display_data"
    }
   ],
   "source": [
    "plt.imshow(im)"
   ]
  },
  {
   "cell_type": "code",
   "execution_count": null,
   "id": "minus-collar",
   "metadata": {},
   "outputs": [],
   "source": []
  }
 ],
 "metadata": {
  "kernelspec": {
   "display_name": "Python 3",
   "language": "python",
   "name": "python3"
  },
  "language_info": {
   "codemirror_mode": {
    "name": "ipython",
    "version": 3
   },
   "file_extension": ".py",
   "mimetype": "text/x-python",
   "name": "python",
   "nbconvert_exporter": "python",
   "pygments_lexer": "ipython3",
   "version": "3.7.10"
  }
 },
 "nbformat": 4,
 "nbformat_minor": 5
}
